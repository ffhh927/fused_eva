{
 "cells": [
  {
   "cell_type": "code",
   "execution_count": 1,
   "id": "88ca77c3",
   "metadata": {},
   "outputs": [
    {
     "name": "stderr",
     "output_type": "stream",
     "text": [
      "/home/u210110722/.conda/envs/EVA/lib/python3.8/site-packages/tqdm/auto.py:21: TqdmWarning: IProgress not found. Please update jupyter and ipywidgets. See https://ipywidgets.readthedocs.io/en/stable/user_install.html\n",
      "  from .autonotebook import tqdm as notebook_tqdm\n"
     ]
    }
   ],
   "source": [
    "import cutlass\n",
    "import torch\n",
    "\n",
    "dtype = torch.float32\n",
    "plan = cutlass.op.GroupedGemm(element=dtype, layout=cutlass.LayoutType.RowMajor)"
   ]
  },
  {
   "cell_type": "code",
   "execution_count": 2,
   "id": "b95ac5e1",
   "metadata": {},
   "outputs": [],
   "source": [
    "import os\n",
    "os.environ['CUDA_LAUNCH_BLOCKING'] = '1'"
   ]
  },
  {
   "cell_type": "code",
   "execution_count": 3,
   "id": "b499cea4",
   "metadata": {},
   "outputs": [],
   "source": [
    "#op = plan.construct()\n",
    "#grouped_gemm = cutlass.emit.pytorch(op, name='grouped_gemm', cc=plan.cc, sourcedir='out_32', jit=True)\n",
    "import grouped_gemm"
   ]
  },
  {
   "cell_type": "code",
   "execution_count": 4,
   "id": "dd704963",
   "metadata": {},
   "outputs": [],
   "source": [
    "import random\n",
    "import torch\n",
    "# 读取.txt文件并生成a, b的矩阵维度列表\n",
    "def read_file_and_generate_matrices(file_path):\n",
    "    with open(file_path, 'r') as file:\n",
    "        lines = file.readlines()\n",
    "    \n",
    "    matrices_a = []  # 存储矩阵a的维度列表\n",
    "    matrices_b = []  # 存储矩阵b的维度列表\n",
    "    matrices_c = []  # 存储矩阵a的维度列表\n",
    "    matrices_d = []  # 存储矩阵b的维度列表\n",
    "    \n",
    "    for line in lines:\n",
    "        # 分割索引和矩阵维度\n",
    "        index, dimensions = line.strip().split()\n",
    "        dimensions = dimensions.split('x')\n",
    "\n",
    "        # 矩阵a是第一个维度，矩阵b是第二个维度\n",
    "        matrix_a = (int(dimensions[0]), int(dimensions[1]))\n",
    "        matrix_b = (int(dimensions[1]), int(dimensions[2]))\n",
    "        matrix_c = (int(dimensions[0]), int(dimensions[2]))\n",
    "        matrix_d = (int(dimensions[0]), int(dimensions[2]))\n",
    "        \n",
    "        \n",
    "        # 添加矩阵维度到列表\n",
    "        matrices_a.append(torch.randint(-3, 3, matrix_a, device='cuda').to(dtype))\n",
    "        matrices_b.append(torch.randint(-3, 3, matrix_b, device='cuda').to(dtype))\n",
    "        matrices_c.append(torch.randint(-3, 3, matrix_c, device='cuda').to(dtype))\n",
    "        matrices_d.append(torch.randint(-3, 3, matrix_d, device='cuda').to(dtype))\n",
    "        \n",
    "    return matrices_a, matrices_b,matrices_c, matrices_d\n",
    "\n",
    "# 指定.txt文件路径\n",
    "file_path = 'test.txt'  # 替换为实际文件路径\n",
    "\n",
    "As, Bs, Cs, Ds = read_file_and_generate_matrices(file_path)"
   ]
  },
  {
   "cell_type": "code",
   "execution_count": 5,
   "id": "af5eca04",
   "metadata": {},
   "outputs": [
    {
     "name": "stdout",
     "output_type": "stream",
     "text": [
      "tensor([[8.]], device='cuda:0')\n"
     ]
    }
   ],
   "source": [
    "Ds = grouped_gemm.run(As, Bs)\n",
    "print(Ds[0])\n",
    "Ds_torch = [a @ b for a, b in zip(As, Bs)]\n",
    "for d, d_torch in zip(Ds, Ds_torch):\n",
    "    assert torch.allclose(d, d_torch)"
   ]
  },
  {
   "cell_type": "markdown",
   "id": "a0f71fb8",
   "metadata": {},
   "source": [
    "Finally, we can profile our grouped GEMM extension:"
   ]
  },
  {
   "cell_type": "code",
   "execution_count": 6,
   "id": "ec78ced2",
   "metadata": {},
   "outputs": [
    {
     "name": "stdout",
     "output_type": "stream",
     "text": [
      "Grouped:     121.922 us\n",
      "Non-Grouped: 216.060 us\n",
      "Speedup: 1.772\n"
     ]
    }
   ],
   "source": [
    "num_warmup = 20\n",
    "num_profile = 10000\n",
    "\n",
    "# Warmup iterations\n",
    "for _ in range(num_warmup):\n",
    "    Ds = grouped_gemm.run(As, Bs)\n",
    "    Ds_torch = [a @ b for a, b in zip(As, Bs)]\n",
    "    torch.cuda.synchronize()\n",
    "\n",
    "# Timing iterations\n",
    "import time\n",
    "grouped = 0\n",
    "nongrouped = 0\n",
    "for _ in range(num_profile):\n",
    "    start = time.time()\n",
    "    Ds = grouped_gemm.run(As, Bs)\n",
    "    torch.cuda.synchronize()\n",
    "    grouped += time.time() - start\n",
    "\n",
    "    start = time.time()\n",
    "    Ds_torch = [a @ b for a, b in zip(As, Bs)]\n",
    "    torch.cuda.synchronize()\n",
    "    nongrouped += time.time() - start\n",
    "\n",
    "print('Grouped:     {:.3f} us'.format(grouped * 1e6/num_profile))\n",
    "print('Non-Grouped: {:.3f} us'.format(nongrouped * 1e6/num_profile))\n",
    "print('Speedup: {:.3f}'.format(nongrouped / grouped))"
   ]
  },
  {
   "cell_type": "code",
   "execution_count": null,
   "id": "fe9ec64e",
   "metadata": {},
   "outputs": [],
   "source": []
  },
  {
   "cell_type": "code",
   "execution_count": null,
   "id": "bfc52de2",
   "metadata": {},
   "outputs": [],
   "source": []
  }
 ],
 "metadata": {
  "kernelspec": {
   "display_name": "Python 3 (ipykernel)",
   "language": "python",
   "name": "python3"
  },
  "language_info": {
   "codemirror_mode": {
    "name": "ipython",
    "version": 3
   },
   "file_extension": ".py",
   "mimetype": "text/x-python",
   "name": "python",
   "nbconvert_exporter": "python",
   "pygments_lexer": "ipython3",
   "version": "3.8.19"
  }
 },
 "nbformat": 4,
 "nbformat_minor": 5
}
